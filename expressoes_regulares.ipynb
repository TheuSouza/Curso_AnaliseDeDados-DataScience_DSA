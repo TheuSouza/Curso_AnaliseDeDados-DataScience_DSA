{
 "cells": [
  {
   "cell_type": "code",
   "execution_count": 26,
   "metadata": {},
   "outputs": [],
   "source": [
    "import re"
   ]
  },
  {
   "cell_type": "code",
   "execution_count": 27,
   "metadata": {},
   "outputs": [],
   "source": [
    "texto = 'meu teste@gmail.com, seu teste@hotmail.com, nosso teste@yahoo.com'"
   ]
  },
  {
   "cell_type": "code",
   "execution_count": 28,
   "metadata": {},
   "outputs": [],
   "source": [
    "resultado = len(re.findall('@', texto))"
   ]
  },
  {
   "cell_type": "code",
   "execution_count": 29,
   "metadata": {},
   "outputs": [
    {
     "name": "stdout",
     "output_type": "stream",
     "text": [
      "O caractere \"@\" apareceu 3 vezes no texto.\n"
     ]
    }
   ],
   "source": [
    "print(f'O caractere \"@\" apareceu {resultado} vezes no texto.')"
   ]
  },
  {
   "cell_type": "code",
   "execution_count": 30,
   "metadata": {},
   "outputs": [],
   "source": [
    "resultado0 = re.findall(r'meu (\\w+)', texto)"
   ]
  },
  {
   "cell_type": "code",
   "execution_count": 32,
   "metadata": {},
   "outputs": [
    {
     "name": "stdout",
     "output_type": "stream",
     "text": [
      "A palavra após \"você\" é: teste\n"
     ]
    }
   ],
   "source": [
    "print(f'A palavra após \"você\" é: {resultado0[0]}')"
   ]
  },
  {
   "cell_type": "code",
   "execution_count": 33,
   "metadata": {},
   "outputs": [],
   "source": [
    "text = 'é incrivelmente difícil viver em um mundo onde a mente das pessoas são infinitamente menor que um caroço de abacate.'"
   ]
  },
  {
   "cell_type": "code",
   "execution_count": 41,
   "metadata": {},
   "outputs": [
    {
     "name": "stdout",
     "output_type": "stream",
     "text": [
      "incrivelmente\n",
      "infinitamente\n"
     ]
    }
   ],
   "source": [
    "for m in re.findall(r'\\w+mente\\b', text):\n",
    "    print(m)"
   ]
  },
  {
   "cell_type": "code",
   "execution_count": 43,
   "metadata": {},
   "outputs": [
    {
     "name": "stdout",
     "output_type": "stream",
     "text": [
      "['incrivelmente', 'infinitamente']\n"
     ]
    }
   ],
   "source": [
    "mente = [m for m in re.findall(r'\\w+mente\\b', text)]\n",
    "print(mente)"
   ]
  }
 ],
 "metadata": {
  "kernelspec": {
   "display_name": "Python 3",
   "language": "python",
   "name": "python3"
  },
  "language_info": {
   "codemirror_mode": {
    "name": "ipython",
    "version": 3
   },
   "file_extension": ".py",
   "mimetype": "text/x-python",
   "name": "python",
   "nbconvert_exporter": "python",
   "pygments_lexer": "ipython3",
   "version": "3.12.7"
  }
 },
 "nbformat": 4,
 "nbformat_minor": 2
}
